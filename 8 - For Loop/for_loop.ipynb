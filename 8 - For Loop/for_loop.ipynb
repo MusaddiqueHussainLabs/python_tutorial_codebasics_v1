{
 "cells": [
  {
   "cell_type": "code",
   "execution_count": 1,
   "metadata": {},
   "outputs": [
    {
     "name": "stdout",
     "output_type": "stream",
     "text": [
      "Heads count:  4\n"
     ]
    }
   ],
   "source": [
    "result = [\"heads\",\"tails\",\"tails\",\"heads\",\"tails\",\"heads\",\"heads\",\"tails\",\"tails\",\"tails\"]\n",
    "count = 0\n",
    "for item in result:\n",
    "    if item == \"heads\":\n",
    "        count += 1\n",
    "print(\"Heads count: \",count)"
   ]
  },
  {
   "cell_type": "code",
   "execution_count": 2,
   "metadata": {},
   "outputs": [
    {
     "name": "stdout",
     "output_type": "stream",
     "text": [
      "1\n",
      "9\n",
      "25\n",
      "49\n",
      "81\n"
     ]
    }
   ],
   "source": [
    "for i in range(1,11):\n",
    "    if i % 2 == 0:\n",
    "        continue\n",
    "    print(i*i)"
   ]
  },
  {
   "cell_type": "code",
   "execution_count": 3,
   "metadata": {},
   "outputs": [
    {
     "name": "stdout",
     "output_type": "stream",
     "text": [
      "You didn't spend 100 in any month\n"
     ]
    }
   ],
   "source": [
    "month_list = [\"January\", \"February\", \"March\", \"April\", \"May\"]\n",
    "expense_list = [2340, 2500, 2100, 3100, 2980]\n",
    "e = input(\"Enter expense amount: \")\n",
    "e = int(e)\n",
    "\n",
    "month = -1\n",
    "for i in range(len(expense_list)):\n",
    "    if e == expense_list[i]:\n",
    "        month = i\n",
    "        break\n",
    "\n",
    "if month != -1:\n",
    "    print(f'You spent {e} in {month_list[month]}')\n",
    "else:\n",
    "    print(f'You didn\\'t spend {e} in any month')"
   ]
  },
  {
   "cell_type": "code",
   "execution_count": 4,
   "metadata": {},
   "outputs": [
    {
     "name": "stdout",
     "output_type": "stream",
     "text": [
      "You ran 1 miles\n",
      "You didn't finish 5 km race but hey congrats anyways! You still ran {i+1} miles\n"
     ]
    }
   ],
   "source": [
    "for i in range(5):\n",
    "    print(f\"You ran {i+1} miles\") # i starts with zero hence adding 1\n",
    "    tired = input(\"Are you tired? \")\n",
    "    if tired == 'yes':\n",
    "        break\n",
    "\n",
    "if i == 4: # 4 because the index starts from 0\n",
    "    print(\"Hurray! You are a rock star! You just finished 5 km race!\")\n",
    "else:\n",
    "    print(\"You didn't finish 5 km race but hey congrats anyways! You still ran {i+1} miles\")"
   ]
  },
  {
   "cell_type": "code",
   "execution_count": 5,
   "metadata": {},
   "outputs": [
    {
     "name": "stdout",
     "output_type": "stream",
     "text": [
      "*\n",
      "**\n",
      "***\n",
      "****\n",
      "*****\n"
     ]
    }
   ],
   "source": [
    "for i in range(1,6):\n",
    "    s = ''\n",
    "    for j in range(i):\n",
    "        s += '*'\n",
    "    print(s)"
   ]
  }
 ],
 "metadata": {
  "kernelspec": {
   "display_name": "base",
   "language": "python",
   "name": "python3"
  },
  "language_info": {
   "codemirror_mode": {
    "name": "ipython",
    "version": 3
   },
   "file_extension": ".py",
   "mimetype": "text/x-python",
   "name": "python",
   "nbconvert_exporter": "python",
   "pygments_lexer": "ipython3",
   "version": "3.9.13"
  },
  "orig_nbformat": 4
 },
 "nbformat": 4,
 "nbformat_minor": 2
}
