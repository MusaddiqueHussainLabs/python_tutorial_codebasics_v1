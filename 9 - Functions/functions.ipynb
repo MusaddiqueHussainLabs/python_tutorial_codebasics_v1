{
 "cells": [
  {
   "cell_type": "code",
   "execution_count": 1,
   "metadata": {},
   "outputs": [
    {
     "name": "stdout",
     "output_type": "stream",
     "text": [
      "Bharat's total: 95\n"
     ]
    }
   ],
   "source": [
    "bharat_expenses = [20,30,45]\n",
    "bilal_expenses = [45,67,34]\n",
    "\n",
    "total=0\n",
    "for item in bharat_expenses:\n",
    "    total+=item\n",
    "print(\"Bharat's total:\",total)"
   ]
  },
  {
   "cell_type": "code",
   "execution_count": 2,
   "metadata": {},
   "outputs": [
    {
     "name": "stdout",
     "output_type": "stream",
     "text": [
      "Bilal's total: 146\n"
     ]
    }
   ],
   "source": [
    "total=0\n",
    "for item in bilal_expenses:\n",
    "    total+=item\n",
    "print(\"Bilal's total:\",total)"
   ]
  },
  {
   "cell_type": "code",
   "execution_count": 3,
   "metadata": {},
   "outputs": [
    {
     "name": "stdout",
     "output_type": "stream",
     "text": [
      "Bharat's total: 95\n"
     ]
    }
   ],
   "source": [
    "# Calculate expense sum for two lists by using a function\n",
    "def find_total(exp):\n",
    "    '''\n",
    "    This function takes list of numbers as input and returns sum of that list\n",
    "    :param exp: input list\n",
    "    :return: total sum\n",
    "    '''\n",
    "    total=0\n",
    "    for item in exp:\n",
    "        total+=item\n",
    "    return total\n",
    "\n",
    "bharat_total=find_total(bharat_expenses)\n",
    "print(\"Bharat's total:\",bharat_total)"
   ]
  },
  {
   "cell_type": "code",
   "execution_count": 4,
   "metadata": {},
   "outputs": [
    {
     "name": "stdout",
     "output_type": "stream",
     "text": [
      "Bilal's total: 146\n"
     ]
    }
   ],
   "source": [
    "bilal_total=find_total(bilal_expenses)\n",
    "print(\"Bilal's total:\",bilal_total)"
   ]
  },
  {
   "cell_type": "code",
   "execution_count": 5,
   "metadata": {},
   "outputs": [
    {
     "name": "stdout",
     "output_type": "stream",
     "text": [
      "Help on function find_total in module __main__:\n",
      "\n",
      "find_total(exp)\n",
      "    This function takes list of numbers as input and returns sum of that list\n",
      "    :param exp: input list\n",
      "    :return: total sum\n",
      "\n",
      "None\n"
     ]
    }
   ],
   "source": [
    "# Explain argument, return value, function body with visuals\n",
    "\n",
    "# documentation strings\n",
    "print(help(find_total))"
   ]
  },
  {
   "cell_type": "code",
   "execution_count": 6,
   "metadata": {},
   "outputs": [
    {
     "name": "stdout",
     "output_type": "stream",
     "text": [
      "radius is: 5\n",
      "height is: 10\n",
      "785.0\n"
     ]
    }
   ],
   "source": [
    "# Positional argument vs named arguments\n",
    "def cylinder_volume(radius,height=1):\n",
    "    print(\"radius is:\",radius)\n",
    "    print(\"height is:\",height)\n",
    "    area = 3.14*(radius**2)*height\n",
    "    return area\n",
    "\n",
    "r=5\n",
    "h=10\n",
    "print(cylinder_volume(height=h,radius=r))"
   ]
  },
  {
   "cell_type": "code",
   "execution_count": 7,
   "metadata": {},
   "outputs": [
    {
     "name": "stdout",
     "output_type": "stream",
     "text": [
      "radius is: 5\n",
      "height is: 1\n",
      "78.5\n"
     ]
    }
   ],
   "source": [
    "# default arguments\n",
    "r=5\n",
    "h=10\n",
    "print(cylinder_volume(radius=r))\n",
    "\n",
    "# global vs local variables"
   ]
  },
  {
   "cell_type": "code",
   "execution_count": 8,
   "metadata": {},
   "outputs": [],
   "source": [
    "def print_pattern(n=5):\n",
    "    '''\n",
    "    :param n: Integer number representing number of lines\n",
    "    to be printed in a pattern. If n=3 it will print,\n",
    "      *\n",
    "      **\n",
    "      ***\n",
    "    If n=4, it will print,\n",
    "      *\n",
    "      **\n",
    "      ***\n",
    "      ****\n",
    "    Default value for n is 5. So if function caller doesn't\n",
    "    supply the input number then it will assume it to be 5\n",
    "    :return: None\n",
    "    '''\n",
    "    # we need to run two for loops. Outer loop prints patterns line by line\n",
    "    # where as inner loop print the content of that specific lines\n",
    "    for i in range(n):\n",
    "        s = ''\n",
    "        for j in range(i+1):\n",
    "            s = s + '*'\n",
    "        print(s)"
   ]
  },
  {
   "cell_type": "code",
   "execution_count": 9,
   "metadata": {},
   "outputs": [],
   "source": [
    "def calculate_area(dimension1,dimension2,shape=\"triangle\"):\n",
    "    '''\n",
    "    :param dimension1: In case of triangle it is \"base\". For rectangle it is \"length\".\n",
    "    :param dimension2: In case of triangle it is \"height\". For rectangle it is \"width\".\n",
    "    :param shape: Either \"triangle\" or \"rectangle\"\n",
    "    :return: Area of a shape\n",
    "    '''\n",
    "    if shape==\"triangle\":\n",
    "        area=1/2*(dimension1*dimension2) # Triangle area is : 1/2(Base*Height)\n",
    "    elif shape==\"rectangle\":\n",
    "        area=dimension1*dimension2 # Rectangle area is: Length*Width\n",
    "    else:\n",
    "        print(\"Error: Input shape is neither triangle nor rectangle.\")\n",
    "        area=None # If user didn't supply \"triangle\" or \"rectangle\" as shape then return None\n",
    "    return area"
   ]
  },
  {
   "cell_type": "code",
   "execution_count": 10,
   "metadata": {},
   "outputs": [
    {
     "name": "stdout",
     "output_type": "stream",
     "text": [
      "Area of triangle is: 25.0\n"
     ]
    }
   ],
   "source": [
    "# Calculate area of triangle whose base is 10 and height is 5\n",
    "base=10\n",
    "height=5\n",
    "triangle_area=calculate_area(base,height,\"triangle\")\n",
    "print(\"Area of triangle is:\",triangle_area)"
   ]
  },
  {
   "cell_type": "code",
   "execution_count": 11,
   "metadata": {},
   "outputs": [
    {
     "name": "stdout",
     "output_type": "stream",
     "text": [
      "Area of rectangle is: 600\n"
     ]
    }
   ],
   "source": [
    "# Calculate area of a rectangle whose length is 20 and width is 30\n",
    "length=20\n",
    "width=30\n",
    "rectangle_area=calculate_area(length,width,\"rectangle\")\n",
    "print(\"Area of rectangle is:\",rectangle_area)"
   ]
  },
  {
   "cell_type": "code",
   "execution_count": 12,
   "metadata": {},
   "outputs": [
    {
     "name": "stdout",
     "output_type": "stream",
     "text": [
      "Area of rectangle is: 600\n"
     ]
    }
   ],
   "source": [
    "# Calculate area of a rectangle whose length is 20 and width is 30\n",
    "length=20\n",
    "width=30\n",
    "rectangle_area=calculate_area(length,width,\"rectangle\")\n",
    "print(\"Area of rectangle is:\",rectangle_area)"
   ]
  },
  {
   "cell_type": "code",
   "execution_count": 13,
   "metadata": {},
   "outputs": [
    {
     "name": "stdout",
     "output_type": "stream",
     "text": [
      "Print pattern with input=3\n",
      "*\n",
      "**\n",
      "***\n",
      "Print pattern with input=4\n",
      "*\n",
      "**\n",
      "***\n",
      "****\n",
      "Print pattern with no input number\n",
      "*\n",
      "**\n",
      "***\n",
      "****\n",
      "*****\n"
     ]
    }
   ],
   "source": [
    "# Basically number of lines it prints is equal to that number. (Hint: you need to use two for loops)\n",
    "\n",
    "print(\"Print pattern with input=3\")\n",
    "print_pattern(3)\n",
    "print(\"Print pattern with input=4\")\n",
    "print_pattern(4)\n",
    "print(\"Print pattern with no input number\")\n",
    "print_pattern() # Not supplying any input will use default argument which is 5"
   ]
  },
  {
   "cell_type": "code",
   "execution_count": 16,
   "metadata": {},
   "outputs": [
    {
     "name": "stdout",
     "output_type": "stream",
     "text": [
      "Hello  Steve ,  Bill ,  Yash\n"
     ]
    }
   ],
   "source": [
    "def greet(*names):  \n",
    "    print ('Hello ', names[0], ', ', names[1], ', ', names[2])\n",
    "\n",
    "greet('Steve', 'Bill', 'Yash') "
   ]
  },
  {
   "cell_type": "code",
   "execution_count": 17,
   "metadata": {},
   "outputs": [
    {
     "name": "stdout",
     "output_type": "stream",
     "text": [
      "Hello Steve, Bill, Yash, Hello Steve, Bill, Yash, Kapil, John, Amir, "
     ]
    }
   ],
   "source": [
    "def greet(*names):\n",
    "\ti=0\n",
    "\tprint('Hello ', end='')\n",
    "\twhile len(names) > i:\n",
    "\t\tprint(names[i], end=', ')\n",
    "\t\ti+=1\n",
    "\n",
    "greet('Steve', 'Bill', 'Yash') \n",
    "greet('Steve', 'Bill', 'Yash', 'Kapil', 'John', 'Amir') "
   ]
  },
  {
   "cell_type": "code",
   "execution_count": 18,
   "metadata": {},
   "outputs": [
    {
     "name": "stdout",
     "output_type": "stream",
     "text": [
      "Hello Steve Jobs\n"
     ]
    }
   ],
   "source": [
    "def greet(firstname, lastname):\n",
    "    print ('Hello', firstname, lastname)\n",
    "\n",
    "greet(lastname='Jobs', firstname='Steve') # passing parameters in any order using keyword argument"
   ]
  },
  {
   "cell_type": "code",
   "execution_count": 20,
   "metadata": {},
   "outputs": [
    {
     "name": "stdout",
     "output_type": "stream",
     "text": [
      "Hello  Steve Jobs\n",
      "Hello  Steve Jobs\n",
      "Hello  Bill Gates\n"
     ]
    }
   ],
   "source": [
    "def greet(**person):\n",
    "\tprint('Hello ', person['firstname'],  person['lastname'])\n",
    "\n",
    "greet(firstname='Steve', lastname='Jobs')\n",
    "greet(lastname='Jobs', firstname='Steve')\n",
    "greet(firstname='Bill', lastname='Gates', age=55) \n"
   ]
  },
  {
   "attachments": {},
   "cell_type": "markdown",
   "metadata": {},
   "source": [
    "Keyword Argument **kwarg"
   ]
  },
  {
   "cell_type": "code",
   "execution_count": 21,
   "metadata": {},
   "outputs": [
    {
     "ename": "KeyError",
     "evalue": "'lastname'",
     "output_type": "error",
     "traceback": [
      "\u001b[1;31m---------------------------------------------------------------------------\u001b[0m",
      "\u001b[1;31mKeyError\u001b[0m                                  Traceback (most recent call last)",
      "\u001b[1;32m~\\AppData\\Local\\Temp\\ipykernel_9108\\2107616794.py\u001b[0m in \u001b[0;36m<module>\u001b[1;34m\u001b[0m\n\u001b[1;32m----> 1\u001b[1;33m \u001b[0mgreet\u001b[0m\u001b[1;33m(\u001b[0m\u001b[0mfirstname\u001b[0m\u001b[1;33m=\u001b[0m\u001b[1;34m'Bill'\u001b[0m\u001b[1;33m)\u001b[0m \u001b[1;31m# raises KeyError\u001b[0m\u001b[1;33m\u001b[0m\u001b[1;33m\u001b[0m\u001b[0m\n\u001b[0m",
      "\u001b[1;32m~\\AppData\\Local\\Temp\\ipykernel_9108\\4119059519.py\u001b[0m in \u001b[0;36mgreet\u001b[1;34m(**person)\u001b[0m\n\u001b[0;32m      1\u001b[0m \u001b[1;32mdef\u001b[0m \u001b[0mgreet\u001b[0m\u001b[1;33m(\u001b[0m\u001b[1;33m**\u001b[0m\u001b[0mperson\u001b[0m\u001b[1;33m)\u001b[0m\u001b[1;33m:\u001b[0m\u001b[1;33m\u001b[0m\u001b[1;33m\u001b[0m\u001b[0m\n\u001b[1;32m----> 2\u001b[1;33m         \u001b[0mprint\u001b[0m\u001b[1;33m(\u001b[0m\u001b[1;34m'Hello '\u001b[0m\u001b[1;33m,\u001b[0m \u001b[0mperson\u001b[0m\u001b[1;33m[\u001b[0m\u001b[1;34m'firstname'\u001b[0m\u001b[1;33m]\u001b[0m\u001b[1;33m,\u001b[0m  \u001b[0mperson\u001b[0m\u001b[1;33m[\u001b[0m\u001b[1;34m'lastname'\u001b[0m\u001b[1;33m]\u001b[0m\u001b[1;33m)\u001b[0m\u001b[1;33m\u001b[0m\u001b[1;33m\u001b[0m\u001b[0m\n\u001b[0m\u001b[0;32m      3\u001b[0m \u001b[1;33m\u001b[0m\u001b[0m\n\u001b[0;32m      4\u001b[0m \u001b[0mgreet\u001b[0m\u001b[1;33m(\u001b[0m\u001b[0mfirstname\u001b[0m\u001b[1;33m=\u001b[0m\u001b[1;34m'Steve'\u001b[0m\u001b[1;33m,\u001b[0m \u001b[0mlastname\u001b[0m\u001b[1;33m=\u001b[0m\u001b[1;34m'Jobs'\u001b[0m\u001b[1;33m)\u001b[0m\u001b[1;33m\u001b[0m\u001b[1;33m\u001b[0m\u001b[0m\n\u001b[0;32m      5\u001b[0m \u001b[0mgreet\u001b[0m\u001b[1;33m(\u001b[0m\u001b[0mlastname\u001b[0m\u001b[1;33m=\u001b[0m\u001b[1;34m'Jobs'\u001b[0m\u001b[1;33m,\u001b[0m \u001b[0mfirstname\u001b[0m\u001b[1;33m=\u001b[0m\u001b[1;34m'Steve'\u001b[0m\u001b[1;33m)\u001b[0m\u001b[1;33m\u001b[0m\u001b[1;33m\u001b[0m\u001b[0m\n",
      "\u001b[1;31mKeyError\u001b[0m: 'lastname'"
     ]
    }
   ],
   "source": [
    "greet(firstname='Bill') # raises KeyError "
   ]
  },
  {
   "cell_type": "code",
   "execution_count": 22,
   "metadata": {},
   "outputs": [
    {
     "ename": "KeyError",
     "evalue": "'lastname'",
     "output_type": "error",
     "traceback": [
      "\u001b[1;31m---------------------------------------------------------------------------\u001b[0m",
      "\u001b[1;31mKeyError\u001b[0m                                  Traceback (most recent call last)",
      "\u001b[1;32m~\\AppData\\Local\\Temp\\ipykernel_9108\\4218085180.py\u001b[0m in \u001b[0;36m<module>\u001b[1;34m\u001b[0m\n\u001b[0;32m      2\u001b[0m         \u001b[0mprint\u001b[0m\u001b[1;33m(\u001b[0m\u001b[1;34m'Hello '\u001b[0m\u001b[1;33m,\u001b[0m \u001b[0mperson\u001b[0m\u001b[1;33m[\u001b[0m\u001b[1;34m'firstname'\u001b[0m\u001b[1;33m]\u001b[0m\u001b[1;33m,\u001b[0m  \u001b[0mperson\u001b[0m\u001b[1;33m[\u001b[0m\u001b[1;34m'lastname'\u001b[0m\u001b[1;33m]\u001b[0m\u001b[1;33m)\u001b[0m\u001b[1;33m\u001b[0m\u001b[1;33m\u001b[0m\u001b[0m\n\u001b[0;32m      3\u001b[0m \u001b[1;33m\u001b[0m\u001b[0m\n\u001b[1;32m----> 4\u001b[1;33m \u001b[0mgreet\u001b[0m\u001b[1;33m(\u001b[0m\u001b[0mfirstname\u001b[0m\u001b[1;33m=\u001b[0m\u001b[1;34m'Bill'\u001b[0m\u001b[1;33m)\u001b[0m \u001b[1;31m# raises KeyError, must provide 'lastname' arguement\u001b[0m\u001b[1;33m\u001b[0m\u001b[1;33m\u001b[0m\u001b[0m\n\u001b[0m",
      "\u001b[1;32m~\\AppData\\Local\\Temp\\ipykernel_9108\\4218085180.py\u001b[0m in \u001b[0;36mgreet\u001b[1;34m(**person)\u001b[0m\n\u001b[0;32m      1\u001b[0m \u001b[1;32mdef\u001b[0m \u001b[0mgreet\u001b[0m\u001b[1;33m(\u001b[0m\u001b[1;33m**\u001b[0m\u001b[0mperson\u001b[0m\u001b[1;33m)\u001b[0m\u001b[1;33m:\u001b[0m\u001b[1;33m\u001b[0m\u001b[1;33m\u001b[0m\u001b[0m\n\u001b[1;32m----> 2\u001b[1;33m         \u001b[0mprint\u001b[0m\u001b[1;33m(\u001b[0m\u001b[1;34m'Hello '\u001b[0m\u001b[1;33m,\u001b[0m \u001b[0mperson\u001b[0m\u001b[1;33m[\u001b[0m\u001b[1;34m'firstname'\u001b[0m\u001b[1;33m]\u001b[0m\u001b[1;33m,\u001b[0m  \u001b[0mperson\u001b[0m\u001b[1;33m[\u001b[0m\u001b[1;34m'lastname'\u001b[0m\u001b[1;33m]\u001b[0m\u001b[1;33m)\u001b[0m\u001b[1;33m\u001b[0m\u001b[1;33m\u001b[0m\u001b[0m\n\u001b[0m\u001b[0;32m      3\u001b[0m \u001b[1;33m\u001b[0m\u001b[0m\n\u001b[0;32m      4\u001b[0m \u001b[0mgreet\u001b[0m\u001b[1;33m(\u001b[0m\u001b[0mfirstname\u001b[0m\u001b[1;33m=\u001b[0m\u001b[1;34m'Bill'\u001b[0m\u001b[1;33m)\u001b[0m \u001b[1;31m# raises KeyError, must provide 'lastname' arguement\u001b[0m\u001b[1;33m\u001b[0m\u001b[1;33m\u001b[0m\u001b[0m\n",
      "\u001b[1;31mKeyError\u001b[0m: 'lastname'"
     ]
    }
   ],
   "source": [
    "def greet(**person):\n",
    "\tprint('Hello ', person['firstname'],  person['lastname'])\n",
    "\n",
    "greet(firstname='Bill') # raises KeyError, must provide 'lastname' arguement"
   ]
  },
  {
   "cell_type": "code",
   "execution_count": 23,
   "metadata": {},
   "outputs": [
    {
     "name": "stdout",
     "output_type": "stream",
     "text": [
      "Hello Guest\n",
      "Hello Steve\n"
     ]
    }
   ],
   "source": [
    "def greet(name = 'Guest'):\n",
    "    print ('Hello', name)\n",
    "\n",
    "greet()\n",
    "greet('Steve')"
   ]
  },
  {
   "cell_type": "code",
   "execution_count": 24,
   "metadata": {},
   "outputs": [],
   "source": [
    "def sum(a, b): \n",
    "    return a + b"
   ]
  },
  {
   "cell_type": "code",
   "execution_count": 25,
   "metadata": {},
   "outputs": [
    {
     "name": "stdout",
     "output_type": "stream",
     "text": [
      "30\n",
      "35\n"
     ]
    }
   ],
   "source": [
    "total=sum(10, 20) \n",
    "print(total)\n",
    "total=sum(5, sum(10, 20))\n",
    "print(total)"
   ]
  },
  {
   "attachments": {},
   "cell_type": "markdown",
   "metadata": {},
   "source": [
    "Lambda Functions and Anonymous Functions in Python"
   ]
  },
  {
   "cell_type": "code",
   "execution_count": 26,
   "metadata": {},
   "outputs": [
    {
     "data": {
      "text/plain": [
       "25"
      ]
     },
     "execution_count": 26,
     "metadata": {},
     "output_type": "execute_result"
    }
   ],
   "source": [
    "(lambda x: x*x)(5)\n"
   ]
  },
  {
   "cell_type": "code",
   "execution_count": 27,
   "metadata": {},
   "outputs": [
    {
     "name": "stdout",
     "output_type": "stream",
     "text": [
      "Hello World!\n"
     ]
    }
   ],
   "source": [
    "greet = lambda : print('Hello World!')\n",
    "greet()"
   ]
  },
  {
   "cell_type": "code",
   "execution_count": null,
   "metadata": {},
   "outputs": [],
   "source": []
  }
 ],
 "metadata": {
  "kernelspec": {
   "display_name": "base",
   "language": "python",
   "name": "python3"
  },
  "language_info": {
   "codemirror_mode": {
    "name": "ipython",
    "version": 3
   },
   "file_extension": ".py",
   "mimetype": "text/x-python",
   "name": "python",
   "nbconvert_exporter": "python",
   "pygments_lexer": "ipython3",
   "version": "3.9.13"
  },
  "orig_nbformat": 4
 },
 "nbformat": 4,
 "nbformat_minor": 2
}
