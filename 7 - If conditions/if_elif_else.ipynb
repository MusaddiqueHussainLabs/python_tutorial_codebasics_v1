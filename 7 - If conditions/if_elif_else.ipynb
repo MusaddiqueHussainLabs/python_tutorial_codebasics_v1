{
 "cells": [
  {
   "cell_type": "code",
   "execution_count": 2,
   "metadata": {},
   "outputs": [
    {
     "name": "stdout",
     "output_type": "stream",
     "text": [
      "mumbai is in india\n"
     ]
    }
   ],
   "source": [
    "india = [\"mumbai\", \"banglore\", \"chennai\", \"delhi\"]\n",
    "pakistan = [\"lahore\", \"karachi\", \"islamabad\"]\n",
    "bangladesh = [\"dhaka\", \"khulna\", \"rangpur\"]\n",
    "\n",
    "city = input(\"Enter city name: \")\n",
    "\n",
    "if city in india:\n",
    "    print(f\"{city} is in india\")\n",
    "elif city in pakistan:\n",
    "    print(f\"{city} is in pakistan\")\n",
    "elif city in bangladesh:\n",
    "    print(f\"{city} is in bangladesh\")\n",
    "else:\n",
    "    print(f\"I won't be able to tell you which country {city} is in! Sorry!\")"
   ]
  },
  {
   "cell_type": "code",
   "execution_count": 3,
   "metadata": {},
   "outputs": [
    {
     "name": "stdout",
     "output_type": "stream",
     "text": [
      "They don't belong to same country\n"
     ]
    }
   ],
   "source": [
    "india = [\"mumbai\", \"banglore\", \"chennai\", \"delhi\"]\n",
    "pakistan = [\"lahore\", \"karachi\", \"islamabad\"]\n",
    "bangladesh = [\"dhaka\", \"khulna\", \"rangpur\"]\n",
    "\n",
    "city1 = input(\"Enter city 1: \")\n",
    "city2 = input(\"Enter city 2: \")\n",
    "\n",
    "if city1 in india and city2 in india:\n",
    "    print(\"Both cities are in india\")\n",
    "elif city1 in pakistan and city2 in pakistan:\n",
    "    print(\"Both cities are in pakistan\")\n",
    "elif city1 in bangladesh and city2 in bangladesh:\n",
    "    print(\"Both cities are in bangladesh\")\n",
    "else:\n",
    "    print(\"They don't belong to same country\")"
   ]
  },
  {
   "cell_type": "code",
   "execution_count": 4,
   "metadata": {},
   "outputs": [
    {
     "name": "stdout",
     "output_type": "stream",
     "text": [
      "Your sugar is low, go eat some jalebi :)\n"
     ]
    }
   ],
   "source": [
    "sugar=input(\"Please enter your fasting sugar level:\")\n",
    "sugar=float(sugar)\n",
    "if sugar<80:\n",
    "    print(\"Your sugar is low, go eat some jalebi :)\")\n",
    "elif sugar>100:\n",
    "    print(\"Your sugar is high, stop eating all mithais..!\")\n",
    "else:\n",
    "    print(\"Your sugar is normal, relax and enjoy your life!\")"
   ]
  },
  {
   "cell_type": "code",
   "execution_count": null,
   "metadata": {},
   "outputs": [],
   "source": []
  }
 ],
 "metadata": {
  "kernelspec": {
   "display_name": "base",
   "language": "python",
   "name": "python3"
  },
  "language_info": {
   "codemirror_mode": {
    "name": "ipython",
    "version": 3
   },
   "file_extension": ".py",
   "mimetype": "text/x-python",
   "name": "python",
   "nbconvert_exporter": "python",
   "pygments_lexer": "ipython3",
   "version": "3.9.13"
  },
  "orig_nbformat": 4
 },
 "nbformat": 4,
 "nbformat_minor": 2
}
